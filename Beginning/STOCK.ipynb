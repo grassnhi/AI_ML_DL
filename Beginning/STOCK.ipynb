{
 "cells": [
  {
   "cell_type": "code",
   "execution_count": 5,
   "metadata": {},
   "outputs": [],
   "source": [
    "import pandas as pd\n",
    "import numpy as np\n",
    "import warnings\n",
    "warnings.filterwarnings('ignore')"
   ]
  },
  {
   "cell_type": "code",
   "execution_count": 6,
   "metadata": {},
   "outputs": [],
   "source": [
    "stock = pd.read_csv(\"E:\\\\Coding\\\\MachineLearning\\\\CSVFile\\\\VN-Index-Historical-Data.csv\")"
   ]
  },
  {
   "cell_type": "code",
   "execution_count": 7,
   "metadata": {},
   "outputs": [
    {
     "data": {
      "text/html": [
       "<div>\n",
       "<style scoped>\n",
       "    .dataframe tbody tr th:only-of-type {\n",
       "        vertical-align: middle;\n",
       "    }\n",
       "\n",
       "    .dataframe tbody tr th {\n",
       "        vertical-align: top;\n",
       "    }\n",
       "\n",
       "    .dataframe thead th {\n",
       "        text-align: right;\n",
       "    }\n",
       "</style>\n",
       "<table border=\"1\" class=\"dataframe\">\n",
       "  <thead>\n",
       "    <tr style=\"text-align: right;\">\n",
       "      <th></th>\n",
       "      <th>Date</th>\n",
       "      <th>Price</th>\n",
       "      <th>Open</th>\n",
       "      <th>High</th>\n",
       "      <th>Low</th>\n",
       "      <th>Vol.</th>\n",
       "      <th>Change %</th>\n",
       "    </tr>\n",
       "  </thead>\n",
       "  <tbody>\n",
       "    <tr>\n",
       "      <th>0</th>\n",
       "      <td>12/31/2021</td>\n",
       "      <td>1,498.28</td>\n",
       "      <td>1,485.97</td>\n",
       "      <td>1,499.07</td>\n",
       "      <td>1,485.97</td>\n",
       "      <td>875.73K</td>\n",
       "      <td>0.83%</td>\n",
       "    </tr>\n",
       "    <tr>\n",
       "      <th>1</th>\n",
       "      <td>12/30/2021</td>\n",
       "      <td>1,485.97</td>\n",
       "      <td>1,490.96</td>\n",
       "      <td>1,493.38</td>\n",
       "      <td>1,484.82</td>\n",
       "      <td>747.86K</td>\n",
       "      <td>0.01%</td>\n",
       "    </tr>\n",
       "    <tr>\n",
       "      <th>2</th>\n",
       "      <td>12/29/2021</td>\n",
       "      <td>1,485.82</td>\n",
       "      <td>1,494.39</td>\n",
       "      <td>1,498.91</td>\n",
       "      <td>1,485.82</td>\n",
       "      <td>843.88K</td>\n",
       "      <td>-0.57%</td>\n",
       "    </tr>\n",
       "    <tr>\n",
       "      <th>3</th>\n",
       "      <td>12/28/2021</td>\n",
       "      <td>1,494.39</td>\n",
       "      <td>1,488.88</td>\n",
       "      <td>1,499.77</td>\n",
       "      <td>1,483.97</td>\n",
       "      <td>1.00M</td>\n",
       "      <td>0.37%</td>\n",
       "    </tr>\n",
       "    <tr>\n",
       "      <th>4</th>\n",
       "      <td>12/27/2021</td>\n",
       "      <td>1,488.88</td>\n",
       "      <td>1,477.03</td>\n",
       "      <td>1,490.12</td>\n",
       "      <td>1,469.91</td>\n",
       "      <td>752.11K</td>\n",
       "      <td>0.80%</td>\n",
       "    </tr>\n",
       "    <tr>\n",
       "      <th>...</th>\n",
       "      <td>...</td>\n",
       "      <td>...</td>\n",
       "      <td>...</td>\n",
       "      <td>...</td>\n",
       "      <td>...</td>\n",
       "      <td>...</td>\n",
       "      <td>...</td>\n",
       "    </tr>\n",
       "    <tr>\n",
       "      <th>125</th>\n",
       "      <td>07/07/2021</td>\n",
       "      <td>1,388.55</td>\n",
       "      <td>1,354.79</td>\n",
       "      <td>1,388.55</td>\n",
       "      <td>1,334.58</td>\n",
       "      <td>733.80K</td>\n",
       "      <td>2.49%</td>\n",
       "    </tr>\n",
       "    <tr>\n",
       "      <th>126</th>\n",
       "      <td>07/06/2021</td>\n",
       "      <td>1,354.79</td>\n",
       "      <td>1,411.13</td>\n",
       "      <td>1,418.99</td>\n",
       "      <td>1,354.79</td>\n",
       "      <td>773.51K</td>\n",
       "      <td>-3.99%</td>\n",
       "    </tr>\n",
       "    <tr>\n",
       "      <th>127</th>\n",
       "      <td>07/05/2021</td>\n",
       "      <td>1,411.13</td>\n",
       "      <td>1,420.27</td>\n",
       "      <td>1,421.52</td>\n",
       "      <td>1,394.12</td>\n",
       "      <td>774.45K</td>\n",
       "      <td>-0.64%</td>\n",
       "    </tr>\n",
       "    <tr>\n",
       "      <th>128</th>\n",
       "      <td>07/02/2021</td>\n",
       "      <td>1,420.27</td>\n",
       "      <td>1,422.89</td>\n",
       "      <td>1,424.28</td>\n",
       "      <td>1,415.82</td>\n",
       "      <td>706.83K</td>\n",
       "      <td>0.23%</td>\n",
       "    </tr>\n",
       "    <tr>\n",
       "      <th>129</th>\n",
       "      <td>07/01/2021</td>\n",
       "      <td>1,417.08</td>\n",
       "      <td>1,412.15</td>\n",
       "      <td>1,417.27</td>\n",
       "      <td>1,402.18</td>\n",
       "      <td>753.56K</td>\n",
       "      <td>0.61%</td>\n",
       "    </tr>\n",
       "  </tbody>\n",
       "</table>\n",
       "<p>130 rows × 7 columns</p>\n",
       "</div>"
      ],
      "text/plain": [
       "           Date     Price      Open      High       Low     Vol. Change %\n",
       "0    12/31/2021  1,498.28  1,485.97  1,499.07  1,485.97  875.73K    0.83%\n",
       "1    12/30/2021  1,485.97  1,490.96  1,493.38  1,484.82  747.86K    0.01%\n",
       "2    12/29/2021  1,485.82  1,494.39  1,498.91  1,485.82  843.88K   -0.57%\n",
       "3    12/28/2021  1,494.39  1,488.88  1,499.77  1,483.97    1.00M    0.37%\n",
       "4    12/27/2021  1,488.88  1,477.03  1,490.12  1,469.91  752.11K    0.80%\n",
       "..          ...       ...       ...       ...       ...      ...      ...\n",
       "125  07/07/2021  1,388.55  1,354.79  1,388.55  1,334.58  733.80K    2.49%\n",
       "126  07/06/2021  1,354.79  1,411.13  1,418.99  1,354.79  773.51K   -3.99%\n",
       "127  07/05/2021  1,411.13  1,420.27  1,421.52  1,394.12  774.45K   -0.64%\n",
       "128  07/02/2021  1,420.27  1,422.89  1,424.28  1,415.82  706.83K    0.23%\n",
       "129  07/01/2021  1,417.08  1,412.15  1,417.27  1,402.18  753.56K    0.61%\n",
       "\n",
       "[130 rows x 7 columns]"
      ]
     },
     "execution_count": 7,
     "metadata": {},
     "output_type": "execute_result"
    }
   ],
   "source": [
    "stock"
   ]
  },
  {
   "cell_type": "code",
   "execution_count": 8,
   "metadata": {},
   "outputs": [
    {
     "data": {
      "text/plain": [
       "Date        object\n",
       "Price       object\n",
       "Open        object\n",
       "High        object\n",
       "Low         object\n",
       "Vol.        object\n",
       "Change %    object\n",
       "dtype: object"
      ]
     },
     "execution_count": 8,
     "metadata": {},
     "output_type": "execute_result"
    }
   ],
   "source": [
    "stock.dtypes"
   ]
  },
  {
   "cell_type": "markdown",
   "metadata": {},
   "source": [
    "# Preprocessing data"
   ]
  },
  {
   "cell_type": "code",
   "execution_count": 9,
   "metadata": {},
   "outputs": [
    {
     "data": {
      "text/html": [
       "<div>\n",
       "<style scoped>\n",
       "    .dataframe tbody tr th:only-of-type {\n",
       "        vertical-align: middle;\n",
       "    }\n",
       "\n",
       "    .dataframe tbody tr th {\n",
       "        vertical-align: top;\n",
       "    }\n",
       "\n",
       "    .dataframe thead th {\n",
       "        text-align: right;\n",
       "    }\n",
       "</style>\n",
       "<table border=\"1\" class=\"dataframe\">\n",
       "  <thead>\n",
       "    <tr style=\"text-align: right;\">\n",
       "      <th></th>\n",
       "      <th>Date</th>\n",
       "      <th>Price</th>\n",
       "      <th>Open</th>\n",
       "      <th>High</th>\n",
       "      <th>Low</th>\n",
       "      <th>Vol.</th>\n",
       "      <th>Change %</th>\n",
       "    </tr>\n",
       "  </thead>\n",
       "  <tbody>\n",
       "    <tr>\n",
       "      <th>count</th>\n",
       "      <td>130</td>\n",
       "      <td>130</td>\n",
       "      <td>130</td>\n",
       "      <td>130</td>\n",
       "      <td>130</td>\n",
       "      <td>130</td>\n",
       "      <td>130</td>\n",
       "    </tr>\n",
       "    <tr>\n",
       "      <th>unique</th>\n",
       "      <td>130</td>\n",
       "      <td>130</td>\n",
       "      <td>130</td>\n",
       "      <td>127</td>\n",
       "      <td>129</td>\n",
       "      <td>126</td>\n",
       "      <td>106</td>\n",
       "    </tr>\n",
       "    <tr>\n",
       "      <th>top</th>\n",
       "      <td>12/31/2021</td>\n",
       "      <td>1,498.28</td>\n",
       "      <td>1,485.97</td>\n",
       "      <td>1,374.85</td>\n",
       "      <td>1,384.77</td>\n",
       "      <td>1.01M</td>\n",
       "      <td>-0.01%</td>\n",
       "    </tr>\n",
       "    <tr>\n",
       "      <th>freq</th>\n",
       "      <td>1</td>\n",
       "      <td>1</td>\n",
       "      <td>1</td>\n",
       "      <td>2</td>\n",
       "      <td>2</td>\n",
       "      <td>3</td>\n",
       "      <td>4</td>\n",
       "    </tr>\n",
       "  </tbody>\n",
       "</table>\n",
       "</div>"
      ],
      "text/plain": [
       "              Date     Price      Open      High       Low   Vol. Change %\n",
       "count          130       130       130       130       130    130      130\n",
       "unique         130       130       130       127       129    126      106\n",
       "top     12/31/2021  1,498.28  1,485.97  1,374.85  1,384.77  1.01M   -0.01%\n",
       "freq             1         1         1         2         2      3        4"
      ]
     },
     "execution_count": 9,
     "metadata": {},
     "output_type": "execute_result"
    }
   ],
   "source": [
    "stock.describe()"
   ]
  },
  {
   "cell_type": "code",
   "execution_count": 10,
   "metadata": {},
   "outputs": [
    {
     "data": {
      "text/plain": [
       "Date        0\n",
       "Price       0\n",
       "Open        0\n",
       "High        0\n",
       "Low         0\n",
       "Vol.        0\n",
       "Change %    0\n",
       "dtype: int64"
      ]
     },
     "execution_count": 10,
     "metadata": {},
     "output_type": "execute_result"
    }
   ],
   "source": [
    "stock.isnull().sum()\n",
    "stock.isna().sum()"
   ]
  },
  {
   "cell_type": "code",
   "execution_count": 11,
   "metadata": {},
   "outputs": [],
   "source": [
    "stock[\"Date\"] = stock[\"Date\"].str.replace('/', '').astype(int)\n",
    "stock[\"Change %\"] = stock[\"Change %\"].str.replace('%', '').astype(float)\n",
    "stock[\"Price\"] = stock[\"Price\"].str.replace(',', '').astype(float)\n",
    "stock[\"Open\"] = stock[\"Open\"].str.replace(',', '').astype(float)\n",
    "stock[\"High\"] = stock[\"High\"].str.replace(',', '').astype(float)\n",
    "stock[\"Low\"] = stock[\"Low\"].str.replace(',', '').astype(float)\n",
    "stock[\"Vol.\"] = stock[\"Vol.\"].str.replace('K', '0')\n",
    "stock[\"Vol.\"] = stock[\"Vol.\"].str.replace('M', '0000')\n",
    "stock[\"Vol.\"] = stock[\"Vol.\"].str.replace('.', '').astype(float)\n",
    "\n",
    "# stock[\"Vol.\"] = 'K', 000    ---> astype(int)\n",
    "# stock[\"Vol.\"] = 'M', 000000 ---> astype(int)"
   ]
  },
  {
   "cell_type": "code",
   "execution_count": 12,
   "metadata": {},
   "outputs": [
    {
     "data": {
      "text/plain": [
       "0      12312021\n",
       "1      12302021\n",
       "2      12292021\n",
       "3      12282021\n",
       "4      12272021\n",
       "         ...   \n",
       "125     7072021\n",
       "126     7062021\n",
       "127     7052021\n",
       "128     7022021\n",
       "129     7012021\n",
       "Name: Date, Length: 130, dtype: int32"
      ]
     },
     "execution_count": 12,
     "metadata": {},
     "output_type": "execute_result"
    }
   ],
   "source": [
    "type(stock[\"Date\"])\n",
    "pd.to_numeric(stock[\"Date\"], errors='raise', downcast=None)"
   ]
  },
  {
   "cell_type": "code",
   "execution_count": 13,
   "metadata": {},
   "outputs": [
    {
     "data": {
      "text/plain": [
       "0      12312021\n",
       "1      12302021\n",
       "2      12292021\n",
       "3      12282021\n",
       "4      12272021\n",
       "         ...   \n",
       "125     7072021\n",
       "126     7062021\n",
       "127     7052021\n",
       "128     7022021\n",
       "129     7012021\n",
       "Name: Date, Length: 130, dtype: int32"
      ]
     },
     "execution_count": 13,
     "metadata": {},
     "output_type": "execute_result"
    }
   ],
   "source": [
    "stock[\"Date\"]"
   ]
  },
  {
   "cell_type": "code",
   "execution_count": 14,
   "metadata": {},
   "outputs": [],
   "source": [
    "import matplotlib.pyplot as plt\n",
    "import seaborn as sns"
   ]
  },
  {
   "cell_type": "code",
   "execution_count": 15,
   "metadata": {},
   "outputs": [
    {
     "data": {
      "image/png": "[encoded data removed]",
      "text/plain": [
       "<Figure size 600x600 with 6 Axes>"
      ]
     },
     "metadata": {},
     "output_type": "display_data"
    }
   ],
   "source": [
    "fig, axs = plt.subplots(6, figsize = (6, 6))\n",
    "plt1 = sns.boxplot(stock['Date'], ax = axs[0])\n",
    "plt2 = sns.boxplot(stock['Price'], ax = axs[1])\n",
    "plt3 = sns.boxplot(stock['Open'], ax = axs[2])\n",
    "plt4 = sns.boxplot(stock['High'], ax = axs[3])\n",
    "plt5 = sns.boxplot(stock['Low'], ax = axs[4])\n",
    "plt7 = sns.boxplot(stock['Change %'], ax = axs[5])\n",
    "plt.tight_layout()"
   ]
  },
  {
   "cell_type": "code",
   "execution_count": 16,
   "metadata": {},
   "outputs": [],
   "source": [
    "features = ['Date' ,'Price', 'Open', 'High', 'Low']"
   ]
  },
  {
   "cell_type": "code",
   "execution_count": 17,
   "metadata": {},
   "outputs": [
    {
     "data": {
      "image/png": "[encoded data removed]",
      "text/plain": [
       "<Figure size 600x600 with 2 Axes>"
      ]
     },
     "metadata": {},
     "output_type": "display_data"
    }
   ],
   "source": [
    "plt.figure(figsize=(6, 6))\n",
    "sns.heatmap(stock.corr(), cmap=\"YlGnBu\", annot = True)\n",
    "plt.show()"
   ]
  },
  {
   "cell_type": "code",
   "execution_count": null,
   "metadata": {},
   "outputs": [],
   "source": []
  }
 ],
 "metadata": {
  "kernelspec": {
   "display_name": "Python 3.10.5 64-bit",
   "language": "python",
   "name": "python3"
  },
  "language_info": {
   "codemirror_mode": {
    "name": "ipython",
    "version": 3
   },
   "file_extension": ".py",
   "mimetype": "text/x-python",
   "name": "python",
   "nbconvert_exporter": "python",
   "pygments_lexer": "ipython3",
   "version": "3.10.5"
  },
  "orig_nbformat": 4,
  "vscode": {
   "interpreter": {
    "hash": "e593ac106456af50ce7af38f9671c411b49d6cd90f9b885e167f0f594e09038c"
   }
  }
 },
 "nbformat": 4,
 "nbformat_minor": 2
}
