{
 "cells": [
  {
   "cell_type": "code",
   "execution_count": 1,
   "metadata": {},
   "outputs": [],
   "source": [
    "import numpy as np # linear algebra\n",
    "import pandas as pd # data processing, CSV file I/O (e.g. pd.read_csv)\n"
   ]
  },
  {
   "cell_type": "code",
   "execution_count": 3,
   "metadata": {},
   "outputs": [],
   "source": [
    "train = pd.read_csv('E:\\Coding\\MachineLearning\\CSVFile\\VNI.csv')\n",
    "test = pd.read_csv('E:\\Coding\\MachineLearning\\CSVFile\\VNItest.csv')"
   ]
  },
  {
   "cell_type": "code",
   "execution_count": 7,
   "metadata": {},
   "outputs": [
    {
     "data": {
      "text/html": [
       "<div>\n",
       "<style scoped>\n",
       "    .dataframe tbody tr th:only-of-type {\n",
       "        vertical-align: middle;\n",
       "    }\n",
       "\n",
       "    .dataframe tbody tr th {\n",
       "        vertical-align: top;\n",
       "    }\n",
       "\n",
       "    .dataframe thead th {\n",
       "        text-align: right;\n",
       "    }\n",
       "</style>\n",
       "<table border=\"1\" class=\"dataframe\">\n",
       "  <thead>\n",
       "    <tr style=\"text-align: right;\">\n",
       "      <th></th>\n",
       "      <th>Date</th>\n",
       "      <th>Price</th>\n",
       "      <th>Open</th>\n",
       "      <th>High</th>\n",
       "      <th>Low</th>\n",
       "      <th>Vol.</th>\n",
       "      <th>Change %</th>\n",
       "    </tr>\n",
       "  </thead>\n",
       "  <tbody>\n",
       "    <tr>\n",
       "      <th>0</th>\n",
       "      <td>12/31/2021</td>\n",
       "      <td>1,498.28</td>\n",
       "      <td>1,485.97</td>\n",
       "      <td>1,499.07</td>\n",
       "      <td>1,485.97</td>\n",
       "      <td>875.73K</td>\n",
       "      <td>0.83%</td>\n",
       "    </tr>\n",
       "    <tr>\n",
       "      <th>1</th>\n",
       "      <td>12/30/2021</td>\n",
       "      <td>1,485.97</td>\n",
       "      <td>1,490.96</td>\n",
       "      <td>1,493.38</td>\n",
       "      <td>1,484.82</td>\n",
       "      <td>747.86K</td>\n",
       "      <td>0.01%</td>\n",
       "    </tr>\n",
       "    <tr>\n",
       "      <th>2</th>\n",
       "      <td>12/29/2021</td>\n",
       "      <td>1,485.82</td>\n",
       "      <td>1,494.39</td>\n",
       "      <td>1,498.91</td>\n",
       "      <td>1,485.82</td>\n",
       "      <td>843.88K</td>\n",
       "      <td>-0.57%</td>\n",
       "    </tr>\n",
       "    <tr>\n",
       "      <th>3</th>\n",
       "      <td>12/28/2021</td>\n",
       "      <td>1,494.39</td>\n",
       "      <td>1,488.88</td>\n",
       "      <td>1,499.77</td>\n",
       "      <td>1,483.97</td>\n",
       "      <td>1.00M</td>\n",
       "      <td>0.37%</td>\n",
       "    </tr>\n",
       "    <tr>\n",
       "      <th>4</th>\n",
       "      <td>12/27/2021</td>\n",
       "      <td>1,488.88</td>\n",
       "      <td>1,477.03</td>\n",
       "      <td>1,490.12</td>\n",
       "      <td>1,469.91</td>\n",
       "      <td>752.11K</td>\n",
       "      <td>0.80%</td>\n",
       "    </tr>\n",
       "    <tr>\n",
       "      <th>...</th>\n",
       "      <td>...</td>\n",
       "      <td>...</td>\n",
       "      <td>...</td>\n",
       "      <td>...</td>\n",
       "      <td>...</td>\n",
       "      <td>...</td>\n",
       "      <td>...</td>\n",
       "    </tr>\n",
       "    <tr>\n",
       "      <th>125</th>\n",
       "      <td>07/07/2021</td>\n",
       "      <td>1,388.55</td>\n",
       "      <td>1,354.79</td>\n",
       "      <td>1,388.55</td>\n",
       "      <td>1,334.58</td>\n",
       "      <td>733.80K</td>\n",
       "      <td>2.49%</td>\n",
       "    </tr>\n",
       "    <tr>\n",
       "      <th>126</th>\n",
       "      <td>07/06/2021</td>\n",
       "      <td>1,354.79</td>\n",
       "      <td>1,411.13</td>\n",
       "      <td>1,418.99</td>\n",
       "      <td>1,354.79</td>\n",
       "      <td>773.51K</td>\n",
       "      <td>-3.99%</td>\n",
       "    </tr>\n",
       "    <tr>\n",
       "      <th>127</th>\n",
       "      <td>07/05/2021</td>\n",
       "      <td>1,411.13</td>\n",
       "      <td>1,420.27</td>\n",
       "      <td>1,421.52</td>\n",
       "      <td>1,394.12</td>\n",
       "      <td>774.45K</td>\n",
       "      <td>-0.64%</td>\n",
       "    </tr>\n",
       "    <tr>\n",
       "      <th>128</th>\n",
       "      <td>07/02/2021</td>\n",
       "      <td>1,420.27</td>\n",
       "      <td>1,422.89</td>\n",
       "      <td>1,424.28</td>\n",
       "      <td>1,415.82</td>\n",
       "      <td>706.83K</td>\n",
       "      <td>0.23%</td>\n",
       "    </tr>\n",
       "    <tr>\n",
       "      <th>129</th>\n",
       "      <td>07/01/2021</td>\n",
       "      <td>1,417.08</td>\n",
       "      <td>1,412.15</td>\n",
       "      <td>1,417.27</td>\n",
       "      <td>1,402.18</td>\n",
       "      <td>753.56K</td>\n",
       "      <td>0.61%</td>\n",
       "    </tr>\n",
       "  </tbody>\n",
       "</table>\n",
       "<p>130 rows × 7 columns</p>\n",
       "</div>"
      ],
      "text/plain": [
       "           Date     Price      Open      High       Low     Vol. Change %\n",
       "0    12/31/2021  1,498.28  1,485.97  1,499.07  1,485.97  875.73K    0.83%\n",
       "1    12/30/2021  1,485.97  1,490.96  1,493.38  1,484.82  747.86K    0.01%\n",
       "2    12/29/2021  1,485.82  1,494.39  1,498.91  1,485.82  843.88K   -0.57%\n",
       "3    12/28/2021  1,494.39  1,488.88  1,499.77  1,483.97    1.00M    0.37%\n",
       "4    12/27/2021  1,488.88  1,477.03  1,490.12  1,469.91  752.11K    0.80%\n",
       "..          ...       ...       ...       ...       ...      ...      ...\n",
       "125  07/07/2021  1,388.55  1,354.79  1,388.55  1,334.58  733.80K    2.49%\n",
       "126  07/06/2021  1,354.79  1,411.13  1,418.99  1,354.79  773.51K   -3.99%\n",
       "127  07/05/2021  1,411.13  1,420.27  1,421.52  1,394.12  774.45K   -0.64%\n",
       "128  07/02/2021  1,420.27  1,422.89  1,424.28  1,415.82  706.83K    0.23%\n",
       "129  07/01/2021  1,417.08  1,412.15  1,417.27  1,402.18  753.56K    0.61%\n",
       "\n",
       "[130 rows x 7 columns]"
      ]
     },
     "execution_count": 7,
     "metadata": {},
     "output_type": "execute_result"
    }
   ],
   "source": [
    "train"
   ]
  },
  {
   "cell_type": "code",
   "execution_count": 5,
   "metadata": {},
   "outputs": [
    {
     "data": {
      "text/html": [
       "<div>\n",
       "<style scoped>\n",
       "    .dataframe tbody tr th:only-of-type {\n",
       "        vertical-align: middle;\n",
       "    }\n",
       "\n",
       "    .dataframe tbody tr th {\n",
       "        vertical-align: top;\n",
       "    }\n",
       "\n",
       "    .dataframe thead th {\n",
       "        text-align: right;\n",
       "    }\n",
       "</style>\n",
       "<table border=\"1\" class=\"dataframe\">\n",
       "  <thead>\n",
       "    <tr style=\"text-align: right;\">\n",
       "      <th></th>\n",
       "      <th>Date</th>\n",
       "      <th>Price</th>\n",
       "      <th>Open</th>\n",
       "      <th>High</th>\n",
       "      <th>Low</th>\n",
       "      <th>Vol.</th>\n",
       "      <th>Change %</th>\n",
       "    </tr>\n",
       "  </thead>\n",
       "  <tbody>\n",
       "    <tr>\n",
       "      <th>0</th>\n",
       "      <td>10/31/2022</td>\n",
       "      <td>1,027.94</td>\n",
       "      <td>1,028.24</td>\n",
       "      <td>1,030.32</td>\n",
       "      <td>1,005.00</td>\n",
       "      <td>662.04K</td>\n",
       "      <td>0.06%</td>\n",
       "    </tr>\n",
       "    <tr>\n",
       "      <th>1</th>\n",
       "      <td>10/28/2022</td>\n",
       "      <td>1,027.36</td>\n",
       "      <td>1,028.01</td>\n",
       "      <td>1,044.57</td>\n",
       "      <td>1,026.53</td>\n",
       "      <td>654.70K</td>\n",
       "      <td>-0.06%</td>\n",
       "    </tr>\n",
       "    <tr>\n",
       "      <th>2</th>\n",
       "      <td>10/27/2022</td>\n",
       "      <td>1,028.01</td>\n",
       "      <td>993.36</td>\n",
       "      <td>1,028.01</td>\n",
       "      <td>990.48</td>\n",
       "      <td>647.72K</td>\n",
       "      <td>3.49%</td>\n",
       "    </tr>\n",
       "    <tr>\n",
       "      <th>3</th>\n",
       "      <td>10/26/2022</td>\n",
       "      <td>993.36</td>\n",
       "      <td>997.70</td>\n",
       "      <td>1,004.55</td>\n",
       "      <td>984.71</td>\n",
       "      <td>448.28K</td>\n",
       "      <td>-0.44%</td>\n",
       "    </tr>\n",
       "    <tr>\n",
       "      <th>4</th>\n",
       "      <td>10/25/2022</td>\n",
       "      <td>997.70</td>\n",
       "      <td>986.15</td>\n",
       "      <td>1,011.39</td>\n",
       "      <td>962.45</td>\n",
       "      <td>751.18K</td>\n",
       "      <td>1.17%</td>\n",
       "    </tr>\n",
       "  </tbody>\n",
       "</table>\n",
       "</div>"
      ],
      "text/plain": [
       "         Date     Price      Open      High       Low     Vol. Change %\n",
       "0  10/31/2022  1,027.94  1,028.24  1,030.32  1,005.00  662.04K    0.06%\n",
       "1  10/28/2022  1,027.36  1,028.01  1,044.57  1,026.53  654.70K   -0.06%\n",
       "2  10/27/2022  1,028.01    993.36  1,028.01    990.48  647.72K    3.49%\n",
       "3  10/26/2022    993.36    997.70  1,004.55    984.71  448.28K   -0.44%\n",
       "4  10/25/2022    997.70    986.15  1,011.39    962.45  751.18K    1.17%"
      ]
     },
     "execution_count": 5,
     "metadata": {},
     "output_type": "execute_result"
    }
   ],
   "source": [
    "test.head()"
   ]
  },
  {
   "cell_type": "code",
   "execution_count": 8,
   "metadata": {},
   "outputs": [
    {
     "name": "stderr",
     "output_type": "stream",
     "text": [
      "C:\\Users\\PC\\AppData\\Local\\Temp\\ipykernel_13912\\1822012783.py:8: FutureWarning: The default value of regex will change from True to False in a future version. In addition, single character regular expressions will *not* be treated as literal strings when regex=True.\n",
      "  train[\"Vol.\"] = train[\"Vol.\"].str.replace('.', '').astype(float)\n"
     ]
    }
   ],
   "source": [
    "train[\"Change %\"] = train[\"Change %\"].str.replace('%', '').astype(float)\n",
    "train[\"Price\"] = train[\"Price\"].str.replace(',', '').astype(float)\n",
    "train[\"Open\"] = train[\"Open\"].str.replace(',', '').astype(float)\n",
    "train[\"High\"] = train[\"High\"].str.replace(',', '').astype(float)\n",
    "train[\"Low\"] = train[\"Low\"].str.replace(',', '').astype(float)\n",
    "train[\"Vol.\"] = train[\"Vol.\"].str.replace('K', '0')\n",
    "train[\"Vol.\"] = train[\"Vol.\"].str.replace('M', '0000')\n",
    "train[\"Vol.\"] = train[\"Vol.\"].str.replace('.', '').astype(float)"
   ]
  },
  {
   "cell_type": "code",
   "execution_count": 9,
   "metadata": {},
   "outputs": [
    {
     "data": {
      "text/plain": [
       "[<matplotlib.lines.Line2D at 0x254ba486fe0>]"
      ]
     },
     "execution_count": 9,
     "metadata": {},
     "output_type": "execute_result"
    },
    {
     "data": {
      "image/png": "[encoded data removed]",
      "text/plain": [
       "<Figure size 640x480 with 1 Axes>"
      ]
     },
     "metadata": {},
     "output_type": "display_data"
    }
   ],
   "source": [
    "import matplotlib.pyplot as plt\n",
    "plt.plot(pd.to_datetime(train['Date']),train['Price'])"
   ]
  },
  {
   "cell_type": "code",
   "execution_count": 14,
   "metadata": {},
   "outputs": [],
   "source": [
    "x = train[\"Date\"]"
   ]
  },
  {
   "cell_type": "code",
   "execution_count": 15,
   "metadata": {},
   "outputs": [],
   "source": [
    "y = train[\"Price\"]"
   ]
  },
  {
   "cell_type": "code",
   "execution_count": 19,
   "metadata": {},
   "outputs": [],
   "source": [
    "from sklearn.preprocessing import MinMaxScaler\n",
    "scaler = MinMaxScaler()\n",
    "scaler.fit(train[['Open','High','Low','Price']])\n",
    "X_scaled = scaler.transform(train[['Open','High','Low','Price']])"
   ]
  },
  {
   "cell_type": "code",
   "execution_count": 22,
   "metadata": {},
   "outputs": [
    {
     "data": {
      "text/plain": [
       "(130, 4)"
      ]
     },
     "execution_count": 22,
     "metadata": {},
     "output_type": "execute_result"
    }
   ],
   "source": [
    "X_scaled.shape"
   ]
  },
  {
   "cell_type": "code",
   "execution_count": 20,
   "metadata": {},
   "outputs": [
    {
     "data": {
      "text/plain": [
       "(130,)"
      ]
     },
     "execution_count": 20,
     "metadata": {},
     "output_type": "execute_result"
    }
   ],
   "source": [
    "x.shape"
   ]
  },
  {
   "cell_type": "code",
   "execution_count": 24,
   "metadata": {},
   "outputs": [
    {
     "data": {
      "text/plain": [
       "(70, 60, 4)"
      ]
     },
     "execution_count": 24,
     "metadata": {},
     "output_type": "execute_result"
    }
   ],
   "source": [
    "X=[]\n",
    "y=[]\n",
    "for i in range(0,len(X_scaled)-60):\n",
    "    row = X_scaled[i:i+60, :]\n",
    "    X.append(row)\n",
    "    y.append(X_scaled[i+60,0])\n",
    "X = np.array(X)\n",
    "X.shape"
   ]
  }
 ],
 "metadata": {
  "kernelspec": {
   "display_name": "Python 3.10.5 64-bit",
   "language": "python",
   "name": "python3"
  },
  "language_info": {
   "codemirror_mode": {
    "name": "ipython",
    "version": 3
   },
   "file_extension": ".py",
   "mimetype": "text/x-python",
   "name": "python",
   "nbconvert_exporter": "python",
   "pygments_lexer": "ipython3",
   "version": "3.10.5"
  },
  "orig_nbformat": 4,
  "vscode": {
   "interpreter": {
    "hash": "e593ac106456af50ce7af38f9671c411b49d6cd90f9b885e167f0f594e09038c"
   }
  }
 },
 "nbformat": 4,
 "nbformat_minor": 2
}
